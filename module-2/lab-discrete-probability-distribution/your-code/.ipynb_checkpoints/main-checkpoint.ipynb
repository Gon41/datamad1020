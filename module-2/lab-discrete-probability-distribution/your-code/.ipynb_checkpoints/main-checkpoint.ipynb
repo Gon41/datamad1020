{
 "cells": [
  {
   "cell_type": "markdown",
   "metadata": {},
   "source": [
    "# Before your start:\n",
    "\n",
    "    Read the README.md file\n",
    "    Comment as much as you can and use the resources (README.md file)\n",
    "    Happy learning!\n",
    "\n",
    "*Notes:* \n",
    "\n",
    "- Solve the questions with python.\n",
    "\n",
    "- Round the final answer to three decimal places."
   ]
  },
  {
   "cell_type": "code",
   "execution_count": 126,
   "metadata": {},
   "outputs": [],
   "source": [
    "from scipy.stats import bernoulli\n",
    "from scipy.stats import binom\n",
    "from math import factorial\n",
    "import matplotlib.pyplot as plt\n",
    "import math\n",
    "from scipy.stats import poisson\n",
    "import numpy as np"
   ]
  },
  {
   "cell_type": "markdown",
   "metadata": {},
   "source": [
    "## Bernoulli's Distribution\n",
    "\n",
    "In a basket containing 100 fruits, there are 60 apples and 40 oranges. \n",
    "\n",
    "A fruit is picked randomly from the basket. \n",
    "\n",
    "1. **What is the probability that the fruit is apple?**\n",
    "1. **What is the probability that it is an orange?**"
   ]
  },
  {
   "cell_type": "code",
   "execution_count": 127,
   "metadata": {},
   "outputs": [
    {
     "name": "stdout",
     "output_type": "stream",
     "text": [
      "Hay una probabilidad de 0.6% de sacar una manzana\n",
      "------------------------------------------------------\n",
      "Hay una probabilidad de 0.4% de sacar una naranja\n"
     ]
    }
   ],
   "source": [
    "\"\"\"\n",
    "Calculate:\n",
    "p = probability that the fruit is an apple \n",
    "q = probability that the fruit is an orange\n",
    "\"\"\"\n",
    "# your code here\n",
    "\n",
    "# \n",
    "\n",
    "p = 60/100 # manzanas\n",
    "\n",
    "q = 1 - (40/100) # naranjas\n",
    "\n",
    "print(f\"Hay una probabilidad de {apple}% de sacar una manzana\")\n",
    "\n",
    "print(\"------------------------------------------------------\")\n",
    "\n",
    "print(f\"Hay una probabilidad de {orange}% de sacar una naranja\")\n"
   ]
  },
  {
   "cell_type": "markdown",
   "metadata": {},
   "source": [
    "Now we take a random sample of 20 fruits from the basket. After each fruit is taken, a new fruit of the same type is replaced in the basket. Therefore, every time we are taking 1 fruit from 100 fruits. \n",
    "\n",
    "1. **What is the probability that the first 5 fruits are all apples?**\n",
    "\n",
    "1. **What is the probability that the first 5 fruits are all apples and the next 15 fruits are all oranges?**\n",
    "\n",
    "You can include the `p` and `q` probabilities you previous calculated in your solution."
   ]
  },
  {
   "cell_type": "code",
   "execution_count": 128,
   "metadata": {},
   "outputs": [
    {
     "name": "stdout",
     "output_type": "stream",
     "text": [
      "Hay una probabilidad de 0.078% de que las 5 primeras frutas sean manzanas\n",
      "-------------------------------------------------------------------------------------------------------\n",
      "Hay una probabilidad de 0.000% que las 5 primeras frutas sean manzanas y las siguientes 15 sean naranjas\n"
     ]
    }
   ],
   "source": [
    "# your code here\n",
    "\n",
    "p = 60/100 # manzana\n",
    "q = 40/100 # naranjas\n",
    "n = 5\n",
    "\n",
    "x = 0.6 * 0.6 * 0.6 * 0.6 * 0.6 # que es lo mismo que 0.6**5\n",
    "\n",
    "print(f\"Hay una probabilidad de \"  \"{:.3f}%\".format(x), \"de que las 5 primeras frutas sean manzanas\")\n",
    "\n",
    "print(\"-------------------------------------------------------------------------------------------------------\")\n",
    "\n",
    "\n",
    "y = x  * (q**15) # que salgan las 5 primeras \n",
    "\n",
    "print(f\"Hay una probabilidad de \"  \"{:.3f}%\".format(y), \"que las 5 primeras frutas sean manzanas y las siguientes 15 sean naranjas\")\n"
   ]
  },
  {
   "cell_type": "markdown",
   "metadata": {},
   "source": [
    "## Binomial Distribution\n",
    "\n",
    "Similar to the above problem, this time again we randomly sample 20 fruits.\n",
    "\n",
    "**What is the probability that this time the sample contains 5 apples and 15 oranges?**\n",
    "\n",
    "Please note that this time the order of the fruits being picked does not matter."
   ]
  },
  {
   "cell_type": "code",
   "execution_count": 129,
   "metadata": {},
   "outputs": [
    {
     "name": "stdout",
     "output_type": "stream",
     "text": [
      "Hay una probabilidad de 0.001% coger 5 manzanas y 15 naranjas\n"
     ]
    }
   ],
   "source": [
    "# No importa el orden en que se cojan las frutas\n",
    "# Se cogen 20 frutas al azar\n",
    "\n",
    "# n = Número de ensayos/experimentos\n",
    "# k = Número de éxitos\n",
    "# p = Probabilidad de éxito\n",
    "# q = Probabilidad de fracaso (1-p)\n",
    "\n",
    "\n",
    "n = 20\n",
    "k = 5   # Solo te interesan como k las primeras 5 manzanas, las otras 15 como no estoy diciendo que sean manzanas, por defecto son naranjas.\n",
    "p = 60/100 # manzana\n",
    "q = 40/100 # naranjas\n",
    "\n",
    "b = (factorial(n)/((factorial(k)*factorial(n-k)))) * ((p**k) * (q**(n-k)))\n",
    "\n",
    "print(f\"Hay una probabilidad de \" \"{:.3f}%\".format(b), \"coger 5 manzanas y 15 naranjas\")\n",
    "\n",
    "# https://economipedia.com/definiciones/distribucion-binomial.html"
   ]
  },
  {
   "cell_type": "markdown",
   "metadata": {},
   "source": [
    "In the lesson we also discussed CDF (cumulative distribution function). In the context of the above problem, **what is the probability that less than 5 fruits picked are apples?**\n",
    "\n",
    "Write the formula and calculate the probability below."
   ]
  },
  {
   "cell_type": "code",
   "execution_count": 137,
   "metadata": {},
   "outputs": [
    {
     "name": "stdout",
     "output_type": "stream",
     "text": [
      "La probabilidad es de 0.000%\n"
     ]
    }
   ],
   "source": [
    "# ¿Cuál es la probabilidad de que menos de 5 frutas recolectadas sean manzanas?\n",
    "\n",
    "# P(a<X<=b) = F(b) - f(a)\n",
    "\n",
    "\n",
    "n = 20\n",
    "k = 4   # Porque dice que es menor que 5\n",
    "p = 60/100 # manzana\n",
    "q = 40/100 # naranjas\n",
    "\n",
    "f = binom.cdf(k=4, n=20, p=p)\n",
    "f \n",
    "\n",
    "print(f\"La probabilidad es de \" \"{:.3f}%\".format(f))"
   ]
  },
  {
   "cell_type": "markdown",
   "metadata": {},
   "source": [
    "**Plot the PDF (probability distributiom function) for the above binomial distribution.**\n",
    "\n",
    "*Hint: The range of x in a binomial distribution is from `0` to `n`.*"
   ]
  },
  {
   "cell_type": "code",
   "execution_count": 138,
   "metadata": {},
   "outputs": [
    {
     "data": {
      "text/plain": [
       "Text(0, 0.5, 'Probabilidad')"
      ]
     },
     "execution_count": 138,
     "metadata": {},
     "output_type": "execute_result"
    },
    {
     "data": {
      "image/png": "[encoded data removed]",
      "text/plain": [
       "<Figure size 432x288 with 1 Axes>"
      ]
     },
     "metadata": {
      "needs_background": "light"
     },
     "output_type": "display_data"
    }
   ],
   "source": [
    "# your code here\n",
    "# Please label the axes and give a title to the plot \n",
    "\n",
    "k = np.arange(0,n,1)\n",
    "P = binom.pmf(k=k, n=10, p=p)\n",
    "\n",
    "plt.bar(k,P);\n",
    "plt.suptitle(\"Distribución de las probabilidades de Poisson para el número de goles entre 0 y 10\")\n",
    "plt.xlabel('Cantidad de manzanas')\n",
    "plt.ylabel('Probabilidad')"
   ]
  },
  {
   "cell_type": "markdown",
   "metadata": {},
   "source": [
    "## Poisson Distribution\n",
    "\n",
    "In this challenge you are required to use the Math library in python to solve the problems.\n",
    "\n",
    "In the UEFA champions league tournament, the average number of goals scored in a match is 2.3. \n",
    "\n",
    "**What is the probability that the number of goals scored in a match is 5?**\n",
    "\n",
    "*Hint: Use the exp() in the math library*\n",
    "\n",
    "And to calculate the factorial, you can use the following code:\n",
    "\n",
    "```python\n",
    "import math\n",
    "math.factorial(n) # n is the number you want to find the factorial of\n",
    "```"
   ]
  },
  {
   "cell_type": "code",
   "execution_count": 139,
   "metadata": {},
   "outputs": [
    {
     "name": "stdout",
     "output_type": "stream",
     "text": [
      "La probabilidad de que el número de goles marcados en un partido sea 5 es de 0.054%\n"
     ]
    }
   ],
   "source": [
    "# En el torneo de la UEFA Champions League, la media de goles marcados en un partido es de 2,3.\n",
    "# ¿Cuál es la probabilidad de que el número de goles marcados en un partido sea 5?\n",
    "\n",
    "mu = 2,3 # nº medio de veces que ocurre el suceso (por partido)\n",
    "x = 5  # goles marcados P(x=5)\n",
    "e = 2.71828\n",
    "\n",
    "# 1. Fórmula de Felipe\n",
    "\n",
    "# soccer = poisson(mu=2.3)\n",
    "# print(soccer.rvs(size=5))\n",
    "\n",
    "\n",
    "\n",
    "# 2. Fórmula encontrada\n",
    "\n",
    "# P(x = k) = ((u**k) * (e**-mu)) / factorial(k)\n",
    "\n",
    "# px = (e**-mu) * (mu**5) / factorial(5)\n",
    "\n",
    "px= ((e**-2.3) * (2.3**5)) / factorial(5)\n",
    "\n",
    "px\n",
    "\n",
    "print(f\"La probabilidad de que el número de goles marcados en un partido sea 5 es de \" \"{:.3f}%\".format(px))\n",
    "\n",
    "\n",
    "# Fuente: https://www.youtube.com/watch?v=hmAfNpD7Eps&ab_channel=F%C3%ADsicayMates"
   ]
  },
  {
   "cell_type": "markdown",
   "metadata": {},
   "source": [
    "**Draw a poisson probability distribution plot for the number of goals to be between 0 to 10.**"
   ]
  },
  {
   "cell_type": "code",
   "execution_count": 140,
   "metadata": {},
   "outputs": [
    {
     "name": "stdout",
     "output_type": "stream",
     "text": [
      "[2 3 1 2 4]\n"
     ]
    }
   ],
   "source": [
    "# your code here\n",
    "# Please label the axes and give a title to the plot \n",
    "\n",
    "soccer = poisson(mu=2.3)\n",
    "print(soccer.rvs(size=5))\n",
    "\n",
    "k = np.arange(0,11,1)\n",
    "goals = soccer.pmf(k)"
   ]
  },
  {
   "cell_type": "code",
   "execution_count": 141,
   "metadata": {},
   "outputs": [
    {
     "data": {
      "text/plain": [
       "Text(0, 0.5, 'Probabilidad')"
      ]
     },
     "execution_count": 141,
     "metadata": {},
     "output_type": "execute_result"
    },
    {
     "data": {
      "image/png": "[encoded data removed]",
      "text/plain": [
       "<Figure size 432x288 with 1 Axes>"
      ]
     },
     "metadata": {
      "needs_background": "light"
     },
     "output_type": "display_data"
    }
   ],
   "source": [
    "plt.bar(k,goals);\n",
    "plt.suptitle(\"Distribución de las probabilidades de Poisson para el número de goles entre 0 y 10\")\n",
    "plt.xlabel('Cantidad de goles')\n",
    "plt.ylabel('Probabilidad')"
   ]
  },
  {
   "cell_type": "code",
   "execution_count": null,
   "metadata": {},
   "outputs": [],
   "source": []
  }
 ],
 "metadata": {
  "kernelspec": {
   "display_name": "Python 3",
   "language": "python",
   "name": "python3"
  },
  "language_info": {
   "codemirror_mode": {
    "name": "ipython",
    "version": 3
   },
   "file_extension": ".py",
   "mimetype": "text/x-python",
   "name": "python",
   "nbconvert_exporter": "python",
   "pygments_lexer": "ipython3",
   "version": "3.8.3"
  }
 },
 "nbformat": 4,
 "nbformat_minor": 2
}
