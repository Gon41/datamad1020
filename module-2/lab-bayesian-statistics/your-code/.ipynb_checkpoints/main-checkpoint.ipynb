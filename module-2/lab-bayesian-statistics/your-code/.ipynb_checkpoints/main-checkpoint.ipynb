{
 "cells": [
  {
   "cell_type": "markdown",
   "metadata": {},
   "source": [
    "# Intro to Bayesian Statistics Lab\n",
    "\n",
    "Complete the following set of exercises to solidify your knowledge of Bayesian statistics and Bayesian data analysis."
   ]
  },
  {
   "cell_type": "code",
   "execution_count": 2,
   "metadata": {},
   "outputs": [],
   "source": [
    "import pandas as pd\n",
    "import numpy as np\n",
    "import matplotlib.pyplot as plt"
   ]
  },
  {
   "cell_type": "markdown",
   "metadata": {},
   "source": [
    "## 1. Cookie Problem\n",
    "\n",
    "Suppose we have two bowls of cookies. Bowl 1 contains 30 vanilla cookies and 10 chocolate cookies. Bowl 2 contains 20 of each. You randomly pick one cookie out of one of the bowls, and it is vanilla. Use Bayes Theorem to calculate the probability that the vanilla cookie you picked came from Bowl 1?"
   ]
  },
  {
   "cell_type": "code",
   "execution_count": 12,
   "metadata": {},
   "outputs": [
    {
     "data": {
      "text/plain": [
       "0.6"
      ]
     },
     "execution_count": 12,
     "metadata": {},
     "output_type": "execute_result"
    }
   ],
   "source": [
    "# # Supongamos que tenemos dos tazones de galletas. \n",
    "# El tazón 1 contiene 30 galletas de vainilla y 10 galletas de chocolate. \n",
    "# El tazón 2 contiene 20 de cada uno. \n",
    "# Escoges al azar una galleta de uno de los tazones y es vainilla. \n",
    "# Usa el teorema de Bayes para calcular la probabilidad de que la galleta de vainilla que recogiste provenga del tazón 1\n",
    "\n",
    "# Total galletas 80\n",
    "# Total galletas vainilla 50\n",
    "# Total galletas chocolate 30\n",
    "\n",
    "# Tarro 1 = 40 galletas (30 vainilla y 10 chocolate)\n",
    "# Tarro 2 = 40 galletas (20 vainilla y 20 chocolate)\n",
    "\n",
    "\n",
    "# P(A|B)\n",
    "# Elijo 1 bowl\n",
    "# A -> La galleta está en el bowl 1\n",
    "# B -> La galleta es de vainilla\n",
    "# p_BA= 0\n",
    "\n",
    "\n",
    "p_A = 1/2      # Bol1 #pBA\n",
    "p_A1 = 30/40   # Vainilla\n",
    "p_A2 = 10/40   # Chocolate\n",
    "    \n",
    "p_B = 1/2      # Bol2\n",
    "p_B1 = 20/40   # Vainilla\n",
    "p_B2 = 20/40   # Chocolate\n",
    "\n",
    "a = (p_A1 * p_A) / ((p_A * p_A1) + (p_B * p_B1))\n",
    "\n",
    "a"
   ]
  },
  {
   "cell_type": "markdown",
   "metadata": {},
   "source": [
    "What is the probability that it came from Bowl 2?"
   ]
  },
  {
   "cell_type": "code",
   "execution_count": 14,
   "metadata": {},
   "outputs": [
    {
     "data": {
      "text/plain": [
       "0.4"
      ]
     },
     "execution_count": 14,
     "metadata": {},
     "output_type": "execute_result"
    }
   ],
   "source": [
    "b = (p_B * p_B1) / ((p_B * p_B1) + (p_A * p_A1))\n",
    "\n",
    "b"
   ]
  },
  {
   "cell_type": "markdown",
   "metadata": {},
   "source": [
    "What if the cookie you had picked was chocolate? What are the probabilities that the chocolate cookie came from Bowl 1 and Bowl 2 respectively?"
   ]
  },
  {
   "cell_type": "code",
   "execution_count": 19,
   "metadata": {},
   "outputs": [
    {
     "name": "stdout",
     "output_type": "stream",
     "text": [
      "0.3333333333333333\n",
      "------------------\n",
      "0.6666666666666666\n"
     ]
    }
   ],
   "source": [
    "# Bowl 1\n",
    "\n",
    "c = (p_A2 * p_A) / ((p_A * p_A2) + (p_B * p_B2))\n",
    "\n",
    "print(c)\n",
    "\n",
    "print(\"------------------\")\n",
    "\n",
    "# Bowl 2\n",
    "\n",
    "d = (p_B * p_B2) / ((p_B * p_B2) + (p_A * p_A2))\n",
    "\n",
    "print(d)"
   ]
  },
  {
   "cell_type": "markdown",
   "metadata": {},
   "source": [
    "## 2. Candy Problem\n",
    "\n",
    "Suppose you have two bags of candies:\n",
    "\n",
    "- In Bag 1, the mix of colors is:\n",
    "    - Brown - 30%\n",
    "    - Yellow - 20%\n",
    "    - Red - 20%\n",
    "    - Green - 10%\n",
    "    - Orange - 10%\n",
    "    - Tan - 10%\n",
    "    \n",
    "- In Bag 2, the mix of colors is:\n",
    "    - Blue - 24%\n",
    "    - Green - 20%\n",
    "    - Orange - 16%\n",
    "    - Yellow - 14%\n",
    "    - Red - 13%\n",
    "    - Brown - 13%\n",
    "    \n",
    "Not knowing which bag is which, you randomly draw one candy from each bag. One is yellow and one is green. What is the probability that the yellow one came from the Bag 1?\n",
    "\n",
    "*Hint: For the likelihoods, you will need to multiply the probabilities of drawing yellow from one bag and green from the other bag and vice versa.*"
   ]
  },
  {
   "cell_type": "code",
   "execution_count": 25,
   "metadata": {},
   "outputs": [],
   "source": [
    "# A = Bolsa1\n",
    "# B = Bolsa2\n",
    "# Y = Yellow\n",
    "# G = Green\n",
    "\n",
    "# Hay la misma probababilidad para las dos bolsas\n",
    "\n",
    "p_A = 1/2\n",
    "P_B = 1/2\n",
    "\n",
    "# Probabilidad de 1 Yellow\n",
    "\n",
    "p_A1 = 0.2 * 0.2     # Yellow Bolsa 1 * Green Bolsa 2\n",
    "p_B1 = 0.14 * 0.10   # Yellow Bolsa 2 * Green Bolsa 1\n",
    "\n",
    "p_A_A1 = p_A * p_A1\n",
    "p_B_B1 = p_B * p_B1\n",
    "\n",
    "p_suma1 = p_A_A1 + p_B_B1\n",
    "\n",
    "# Probabilidad de 2 Green\n",
    "\n",
    "p_A2 = 0.1 * 0.14     # Green Bolsa 1 * Yellow Bolsa 2\n",
    "p_B2 = 0.2 * 0.2   # Green Bolsa 2 * Yellow Bolsa 1\n",
    "\n",
    "p_A_A2 = p_A * p_A2\n",
    "p_B_B2 = p_B * p_B2\n",
    "\n",
    "p_suma2 = p_A_A2 + p_B_B2"
   ]
  },
  {
   "cell_type": "code",
   "execution_count": 26,
   "metadata": {},
   "outputs": [
    {
     "data": {
      "text/plain": [
       "0.7407407407407408"
      ]
     },
     "execution_count": 26,
     "metadata": {},
     "output_type": "execute_result"
    }
   ],
   "source": [
    "# Yellow from bag1\n",
    "\n",
    "p_AY = p_A_A1 / p_suma1\n",
    "\n",
    "p_AY"
   ]
  },
  {
   "cell_type": "markdown",
   "metadata": {},
   "source": [
    "What is the probability that the yellow candy came from Bag 2?"
   ]
  },
  {
   "cell_type": "code",
   "execution_count": 27,
   "metadata": {},
   "outputs": [
    {
     "data": {
      "text/plain": [
       "0.25925925925925924"
      ]
     },
     "execution_count": 27,
     "metadata": {},
     "output_type": "execute_result"
    }
   ],
   "source": [
    "# Yellow from bag2\n",
    "\n",
    "p_AG = p_B_B1 / p_suma2\n",
    "\n",
    "p_AG"
   ]
  },
  {
   "cell_type": "markdown",
   "metadata": {},
   "source": [
    "What are the probabilities that the green one came from Bag 1 and Bag 2 respectively?"
   ]
  },
  {
   "cell_type": "code",
   "execution_count": 30,
   "metadata": {},
   "outputs": [
    {
     "data": {
      "text/plain": [
       "0.25925925925925924"
      ]
     },
     "execution_count": 30,
     "metadata": {},
     "output_type": "execute_result"
    }
   ],
   "source": [
    "# Green from bag1\n",
    "\n",
    "p_AG = p_A_A2 / p_suma2\n",
    "\n",
    "p_AG"
   ]
  },
  {
   "cell_type": "code",
   "execution_count": 31,
   "metadata": {},
   "outputs": [
    {
     "data": {
      "text/plain": [
       "0.7407407407407408"
      ]
     },
     "execution_count": 31,
     "metadata": {},
     "output_type": "execute_result"
    }
   ],
   "source": [
    "# Green from bag2\n",
    "\n",
    "p_BG = p_B_B2 / p_suma2\n",
    "\n",
    "p_BG"
   ]
  },
  {
   "cell_type": "markdown",
   "metadata": {},
   "source": [
    "## 3. Monty Hall Problem\n",
    "\n",
    "Suppose you are a contestant on the popular game show *Let's Make a Deal*. The host of the show (Monty Hall) presents you with three doors - Door A, Door B, and Door C. He tells you that there is a sports car behind one of them and if you choose the correct one, you win the car!\n",
    "\n",
    "You select Door A, but then Monty makes things a little more interesting. He opens Door B to reveal that there is no sports car behind it and asks you if you would like to stick with your choice of Door A or switch your choice to Door C. Given this new information, what are the probabilities of you winning the car if you stick with Door A versus if you switch to Door C?"
   ]
  },
  {
   "cell_type": "code",
   "execution_count": 37,
   "metadata": {},
   "outputs": [
    {
     "name": "stdout",
     "output_type": "stream",
     "text": [
      "33.33333333333333\n",
      "66.66666666666666\n"
     ]
    }
   ],
   "source": [
    "# Suponga que participa en el popular programa de juegos Let's Make a Deal. \n",
    "# El presentador del programa (Monty Hall) te presenta tres puertas: Puerta A, Puerta B y Puerta C. \n",
    "# Te dice que hay un auto deportivo detrás de una de ellas y que si eliges la correcta, ganas el auto.\n",
    "\n",
    "# Selecciona la Puerta A, pero luego Monty hace las cosas un poco más interesantes. \n",
    "# Él abre la Puerta B para revelar que no hay un automóvil deportivo detrás y le pregunta si le gustaría seguir \n",
    "# con su elección de la Puerta A o cambiar su elección a la Puerta C. Dada esta nueva información, \n",
    "# ¿cuáles son las probabilidades de que ganes el coche si te quedas con la Puerta A vs si cambias a la Puerta C?\n",
    "\n",
    "# Si me quedo con puerta 1\n",
    "\n",
    "# P(A|B)\n",
    "# I chose door 1\n",
    "# A -> Car is in door 1\n",
    "# B -> Door 2 is open\n",
    "\n",
    "p_BA = 1/2\n",
    "p_A = 1/3\n",
    "p_B = 1/2\n",
    "p_AB = (p_BA * p_A)/p_B \n",
    "print(p_AB*100)\n",
    "\n",
    "# Si cambio a la puerta 3\n",
    "\n",
    "# P(A|B)\n",
    "# I chose door 1\n",
    "# A -> Car is in door 3\n",
    "# B -> Door 2 is open\n",
    "p_BA= 1\n",
    "p_A= 1/3\n",
    "p_B= 1/2\n",
    "p_AB = (p_BA * p_A)/p_B \n",
    "p_AB\n",
    "print(p_AB*100)"
   ]
  },
  {
   "cell_type": "markdown",
   "metadata": {},
   "source": [
    "## 4. Bayesian Analysis \n",
    "\n",
    "Suppose you work for a landscaping company, and they want to advertise their service online. They create an ad and sit back waiting for the money to roll in. On the first day, the ad sends 100 visitors to the site and 14 of them sign up for landscaping services. Create a generative model to come up with the posterior distribution and produce a visualization of what the posterior distribution would look like given the observed data."
   ]
  },
  {
   "cell_type": "code",
   "execution_count": null,
   "metadata": {},
   "outputs": [],
   "source": []
  },
  {
   "cell_type": "markdown",
   "metadata": {},
   "source": [
    "Produce a set of descriptive statistics for the posterior distribution."
   ]
  },
  {
   "cell_type": "code",
   "execution_count": null,
   "metadata": {},
   "outputs": [],
   "source": []
  },
  {
   "cell_type": "markdown",
   "metadata": {},
   "source": [
    "What is the 90% credible interval range?"
   ]
  },
  {
   "cell_type": "code",
   "execution_count": null,
   "metadata": {},
   "outputs": [],
   "source": []
  },
  {
   "cell_type": "markdown",
   "metadata": {},
   "source": [
    "What is the Maximum Likelihood Estimate?"
   ]
  },
  {
   "cell_type": "code",
   "execution_count": null,
   "metadata": {},
   "outputs": [],
   "source": []
  }
 ],
 "metadata": {
  "kernelspec": {
   "display_name": "Python 3",
   "language": "python",
   "name": "python3"
  },
  "language_info": {
   "codemirror_mode": {
    "name": "ipython",
    "version": 3
   },
   "file_extension": ".py",
   "mimetype": "text/x-python",
   "name": "python",
   "nbconvert_exporter": "python",
   "pygments_lexer": "ipython3",
   "version": "3.8.3"
  }
 },
 "nbformat": 4,
 "nbformat_minor": 2
}
